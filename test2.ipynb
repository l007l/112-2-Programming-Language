{
 "cells": [
  {
   "cell_type": "code",
   "execution_count": 23,
   "id": "72c527bb",
   "metadata": {},
   "outputs": [],
   "source": [
    "import pandas as pd\n",
    "import numpy as np\n",
    "\n",
    "data = pd.read_csv('C:/adult.csv')"
   ]
  },
  {
   "cell_type": "code",
   "execution_count": 24,
   "id": "8064e124",
   "metadata": {},
   "outputs": [
    {
     "name": "stdout",
     "output_type": "stream",
     "text": [
      "平均薪資: 189778.36651208502\n",
      "薪資標準差: 105548.3568808909\n",
      "薪資中位數: 178356.0\n"
     ]
    }
   ],
   "source": [
    "average_income = np.mean(data['Income'])\n",
    "print(\"平均薪資:\", average_income)\n",
    "\n",
    "std_income = np.std(data['Income'])\n",
    "print(\"薪資標準差:\", std_income)\n",
    "\n",
    "median_income = np.median(data['Income'])\n",
    "print(\"薪資中位數:\", median_income)"
   ]
  },
  {
   "cell_type": "code",
   "execution_count": null,
   "id": "5a43b4fc",
   "metadata": {},
   "outputs": [],
   "source": []
  }
 ],
 "metadata": {
  "kernelspec": {
   "display_name": "Python 3 (ipykernel)",
   "language": "python",
   "name": "python3"
  },
  "language_info": {
   "codemirror_mode": {
    "name": "ipython",
    "version": 3
   },
   "file_extension": ".py",
   "mimetype": "text/x-python",
   "name": "python",
   "nbconvert_exporter": "python",
   "pygments_lexer": "ipython3",
   "version": "3.11.5"
  }
 },
 "nbformat": 4,
 "nbformat_minor": 5
}
